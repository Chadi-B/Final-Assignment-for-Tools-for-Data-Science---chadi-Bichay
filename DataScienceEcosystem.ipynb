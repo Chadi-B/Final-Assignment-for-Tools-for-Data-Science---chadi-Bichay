{
 "cells": [
  {
   "cell_type": "markdown",
   "id": "98cb6eb7-5f4b-45b9-880e-854a8c90dd5e",
   "metadata": {},
   "source": [
    "# Data Science Tools and Ecosystem\n"
   ]
  },
  {
   "cell_type": "markdown",
   "id": "27d3aee3-2a26-4c1c-9fb7-9e9c0a2a4995",
   "metadata": {},
   "source": [
    "## In this notebook, Data Science tools and Ecosystem are symmarized."
   ]
  },
  {
   "cell_type": "markdown",
   "id": "e002eab9-63c0-42cb-a928-25b3b8a7b6d2",
   "metadata": {},
   "source": [
    "## Author\n",
    "Chadi Bichay"
   ]
  },
  {
   "cell_type": "markdown",
   "id": "c9e85379-70ec-419f-b523-4dc40da08f37",
   "metadata": {},
   "source": [
    "**Objectives:**\n",
    "- Python\n",
    "- Java\n",
    "- C++\n",
    "- R\n",
    "- JavaScript"
   ]
  },
  {
   "cell_type": "markdown",
   "id": "fde56c4e-f03a-46b5-b35e-e155b7a70b3a",
   "metadata": {},
   "source": [
    "### some of the popular languages that data Scientists use are: \n",
    "1. Java\n",
    "2. Pyhton\n",
    "3. R"
   ]
  },
  {
   "cell_type": "markdown",
   "id": "f4fc8c98-b5a1-4bea-813a-bc4149d5ba13",
   "metadata": {},
   "source": [
    "### some of the commonly used libraries used by data Scientists include: \n",
    "1. Numpy\n",
    "2. Pandas\n",
    "3. Matplotlib"
   ]
  },
  {
   "cell_type": "markdown",
   "id": "9209b172-64df-446c-a615-de0f4b8bdbe3",
   "metadata": {},
   "source": [
    "|Data Science Tools|\n",
    "|------------------|\n",
    "|MySQL|\n",
    "|IBM Watson Studio|\n",
    "|Micrososft Visual Studio|"
   ]
  },
  {
   "cell_type": "markdown",
   "id": "ce579888-5e8a-45f5-8794-e2d186c2dbe4",
   "metadata": {},
   "source": [
    "### Below are a few examples of evaluating arithmetic expressions in Python"
   ]
  },
  {
   "cell_type": "code",
   "execution_count": 1,
   "id": "0cafbfd1-71da-413f-95c9-cd09655f4d0c",
   "metadata": {},
   "outputs": [
    {
     "data": {
      "text/plain": [
       "17"
      ]
     },
     "execution_count": 1,
     "metadata": {},
     "output_type": "execute_result"
    }
   ],
   "source": [
    "#this is a simple arithmetic expression to multiply then add integers\n",
    "(3*4)+5"
   ]
  },
  {
   "cell_type": "code",
   "execution_count": null,
   "id": "6f66a500-df32-4e1c-be77-d8d144c51821",
   "metadata": {},
   "outputs": [],
   "source": []
  }
 ],
 "metadata": {
  "kernelspec": {
   "display_name": "Python 3 (ipykernel)",
   "language": "python",
   "name": "python3"
  },
  "language_info": {
   "codemirror_mode": {
    "name": "ipython",
    "version": 3
   },
   "file_extension": ".py",
   "mimetype": "text/x-python",
   "name": "python",
   "nbconvert_exporter": "python",
   "pygments_lexer": "ipython3",
   "version": "3.11.9"
  }
 },
 "nbformat": 4,
 "nbformat_minor": 5
}
